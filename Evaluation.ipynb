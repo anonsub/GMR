{
 "cells": [
  {
   "cell_type": "code",
   "execution_count": 1,
   "metadata": {},
   "outputs": [],
   "source": [
    "from meta_planning.parsers import parse_plan\n",
    "from meta_planning.pddl import Plan\n",
    "\n",
    "import numpy as np\n",
    "import glob"
   ]
  },
  {
   "cell_type": "code",
   "execution_count": 2,
   "metadata": {},
   "outputs": [],
   "source": [
    "agents = 1 # 1 or 2\n",
    "problem_folder = \"PGRTG\" # GRTG, PGRT, GRTI, PGRTI\n",
    "sm = \"Prob\" # Det and NonDet for GRTG and GRTI; Prob for PGRTG and PGRTI\n",
    "obs = \"0.3\" # 0.3, 0.5, 0.7"
   ]
  },
  {
   "cell_type": "code",
   "execution_count": 3,
   "metadata": {},
   "outputs": [
    {
     "name": "stdout",
     "output_type": "stream",
     "text": [
      "0.15 1.85 0.95\n"
     ]
    }
   ],
   "source": [
    "problems = sorted(glob.glob(\"benchmarks/grid/%s/%s/*\" % (problem_folder,agents)))\n",
    "\n",
    "best_sizes = []\n",
    "acc_list = []\n",
    "total_times = []\n",
    "\n",
    "for problem in problems:\n",
    "    with open(problem + \"/real-hyp\", \"r\") as f:\n",
    "        data = f.read()\n",
    "\n",
    "    real_hyp = int(data)\n",
    "\n",
    "\n",
    "    with open(problem + \"/results-%s-%s\" % (sm, obs), \"r\") as f:\n",
    "        data = f.readline().split(\" \")\n",
    "\n",
    "    costs = [int(c) for c in data]\n",
    "    \n",
    "    with open(problem + \"/times-%s-%s\" % (sm, obs), \"r\") as f:\n",
    "        data = f.readline().split(\" \")\n",
    "\n",
    "    times = [float(c) for c in data]\n",
    "    total_time = sum(times)\n",
    "    total_times.append(total_time)\n",
    "\n",
    "\n",
    "    best_cost = min(costs)\n",
    "    best_hyp = [i for i in range(len(costs)) if costs[i] == best_cost]\n",
    "    \n",
    "    best_sizes.append(len(best_hyp))\n",
    "    if real_hyp in best_hyp:\n",
    "        acc_list.append(1)\n",
    "    else:\n",
    "        acc_list.append(0)\n",
    "\n",
    "#     print(round(total_time,2), len(best_hyp), (real_hyp in best_hyp))\n",
    "    \n",
    "print(round(sum(total_times)/len(total_times),2), sum(best_sizes)/len(best_sizes), sum(acc_list)/len(acc_list))"
   ]
  }
 ],
 "metadata": {
  "kernelspec": {
   "display_name": "meta-planning",
   "language": "python",
   "name": "meta-planning"
  },
  "language_info": {
   "codemirror_mode": {
    "name": "ipython",
    "version": 3
   },
   "file_extension": ".py",
   "mimetype": "text/x-python",
   "name": "python",
   "nbconvert_exporter": "python",
   "pygments_lexer": "ipython3",
   "version": "3.6.8"
  }
 },
 "nbformat": 4,
 "nbformat_minor": 2
}
